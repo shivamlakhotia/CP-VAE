{
 "metadata": {
  "language_info": {
   "codemirror_mode": {
    "name": "ipython",
    "version": 3
   },
   "file_extension": ".py",
   "mimetype": "text/x-python",
   "name": "python",
   "nbconvert_exporter": "python",
   "pygments_lexer": "ipython3",
   "version": "3.8.5-final"
  },
  "orig_nbformat": 2,
  "kernelspec": {
   "name": "python3",
   "display_name": "Python 3",
   "language": "python"
  }
 },
 "nbformat": 4,
 "nbformat_minor": 2,
 "cells": [
  {
   "cell_type": "code",
   "execution_count": 27,
   "metadata": {},
   "outputs": [],
   "source": [
    "import pandas as pd\n",
    "import argparse\n",
    "from utils.bleu import compute_bleu\n",
    "from utils.text_utils import MonoTextData\n",
    "import torch\n",
    "from classifier import CNNClassifier, evaluate\n",
    "import os\n",
    "from utils.bleu import compute_bleu"
   ]
  },
  {
   "cell_type": "code",
   "execution_count": 32,
   "metadata": {},
   "outputs": [],
   "source": [
    "data_pth = \"data/generated_eval_data_1\"\n",
    "model_name = \"M3\"\n",
    "swap_types = ['both','sentiment','tense']\n",
    "swap_type = swap_types[0]\n",
    "\n",
    "file_name = model_name+\"_\"+swap_type+\"_swapped_file.csv\"\n",
    "# file_pth = os.path.join(data_pth, file_name)\n",
    "# data_file = pd.read_csv(file_pth, sep='\\t').drop(axis = 1, columns=['Unnamed: 0'])\n",
    "# data_file['Original'] = data_file['Original'].str[3:-5]\n",
    "# data_file['Swapped'] = data_file['Swapped'].str[3:]\n",
    "# data_file['New Sentiment Label'] = data_file['New Sentiment Label'].astype('int')\n",
    "# data_file['New Tense Label'] = data_file['New Tense Label'].astype('int')\n",
    "# data_file = data_file.drop(columns=['Original'])[['Swapped', 'New Tense Label', 'New Sentiment Label']].rename(columns={'Swapped':'content','New Tense Label':'tense-label', 'New Sentiment Label':'sentiment-label'})\n",
    "# sav_file_path = os.path.join(data_pth, \"acc_\"+file_name)\n",
    "# data_file.to_csv(sav_file_path,index=False,sep='\\t')\n"
   ]
  },
  {
   "cell_type": "code",
   "execution_count": 33,
   "metadata": {},
   "outputs": [
    {
     "output_type": "stream",
     "name": "stdout",
     "text": [
      "Bleu: 23.49\n"
     ]
    }
   ],
   "source": [
    "file_pth = os.path.join(data_pth, file_name)\n",
    "generated_data_file = pd.read_csv(file_pth, sep='\\t').drop(axis = 1, columns=['Unnamed: 0'])\n",
    "\n",
    "generated_data_file['Original'] = generated_data_file['Original'].str[3:-5]\n",
    "generated_data_file['Swapped'] = generated_data_file['Swapped'].str[3:]\n",
    "\n",
    "#target_data_file = pd.read_csv(file_pth, sep='\\t')\n",
    "# BLEU Score\n",
    "total_bleu = 0.0\n",
    "sources = []\n",
    "targets = []\n",
    "for i in range(generated_data_file.shape[0]):\n",
    "    s = generated_data_file['Original'][i].split()\n",
    "    t = generated_data_file['Swapped'][i].split()\n",
    "    sources.append([s])\n",
    "    targets.append(t)\n",
    "\n",
    "total_bleu += compute_bleu(sources, targets)[0]\n",
    "total_bleu *= 100\n",
    "print(\"Bleu: %.2f\" % total_bleu)"
   ]
  },
  {
   "cell_type": "code",
   "execution_count": null,
   "metadata": {},
   "outputs": [],
   "source": []
  }
 ]
}